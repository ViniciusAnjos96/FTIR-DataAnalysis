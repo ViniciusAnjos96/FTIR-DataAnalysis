{
  "nbformat": 4,
  "nbformat_minor": 0,
  "metadata": {
    "colab": {
      "provenance": [],
      "collapsed_sections": [
        "Knx_788i8jw7",
        "JsqSG9Li6yUQ"
      ],
      "authorship_tag": "ABX9TyM0a5ZbLmv7tzkbtZByvYZI"
    },
    "kernelspec": {
      "name": "python3",
      "display_name": "Python 3"
    },
    "language_info": {
      "name": "python"
    }
  },
  "cells": [
    {
      "cell_type": "code",
      "source": [
        "# === Pacotes necessários / Required packages ===\n",
        "import pandas as pd\n",
        "import numpy as np\n",
        "from sklearn.preprocessing import StandardScaler\n",
        "from sklearn.cluster import KMeans\n",
        "import matplotlib.pyplot as plt\n",
        "from sklearn.decomposition import PCA"
      ],
      "metadata": {
        "id": "EZsO6dyw6tj-"
      },
      "execution_count": null,
      "outputs": []
    },
    {
      "cell_type": "markdown",
      "source": [
        "# dados não indexados / unindexed data"
      ],
      "metadata": {
        "id": "Knx_788i8jw7"
      }
    },
    {
      "cell_type": "code",
      "source": [
        "# === Ler os dados .CSV / Read .CSV data ===\n",
        "dados = pd.read_csv('NAME.csv', sep=';')  # especifica o separador / specifies the separator\n",
        "print(dados.head())"
      ],
      "metadata": {
        "id": "ceHtzv6qrrMf"
      },
      "execution_count": null,
      "outputs": []
    },
    {
      "cell_type": "code",
      "source": [
        "# === Ler os dados .XLSX  / Read .XLSX data ===\n",
        "dados = pd.read_excel(\"NAME.xlsx\")\n",
        "print(dados_com_clusters.head())"
      ],
      "metadata": {
        "id": "lmY7jufzrslt"
      },
      "execution_count": null,
      "outputs": []
    },
    {
      "cell_type": "code",
      "source": [
        "# === Padronizar os dados / Standardize data ===\n",
        "scaler = StandardScaler()\n",
        "dados_padronizados = scaler.fit_transform(dados)"
      ],
      "metadata": {
        "id": "fqJC-k_L8xsz"
      },
      "execution_count": null,
      "outputs": []
    },
    {
      "cell_type": "code",
      "source": [
        "# === K-means ===\n",
        "np.random.seed(1234)\n",
        "kmeans = KMeans(n_clusters=2, n_init=25, random_state=1234)\n",
        "clusters = kmeans.fit_predict(dados_padronizados)"
      ],
      "metadata": {
        "id": "j8_Qxx5w8zJf"
      },
      "execution_count": null,
      "outputs": []
    },
    {
      "cell_type": "code",
      "source": [
        "# === PCA para reduzir a 2D para visualização / PCA to reduce to 2D for visualization ===\n",
        "pca = PCA(n_components=2)\n",
        "dados_pca = pca.fit_transform(dados_padronizados)"
      ],
      "metadata": {
        "id": "T-0AsgRE80CX"
      },
      "execution_count": null,
      "outputs": []
    },
    {
      "cell_type": "code",
      "source": [
        "# === Gráfico dos clusters / Cluster graph ===\n",
        "plt.figure(figsize=(8, 6))\n",
        "scatter = plt.scatter(dados_pca[:, 0], dados_pca[:, 1], c=clusters, cmap=\"tab10\", s=50, alpha=0.8)\n",
        "plt.xlabel(\"PC1\")\n",
        "plt.ylabel(\"PC2\")\n",
        "plt.title(\"K-means Clustering - PCA 2D\")\n",
        "plt.legend(*scatter.legend_elements(), title=\"Cluster\")\n",
        "plt.show()"
      ],
      "metadata": {
        "id": "kmJ_rlCS8mdB"
      },
      "execution_count": null,
      "outputs": []
    },
    {
      "cell_type": "code",
      "source": [
        "# === Salvar resultados / Save results ===\n",
        "dados_com_clusters = pd.DataFrame(dados_padronizados, columns=dados.columns)\n",
        "dados_com_clusters.insert(0, \"Cluster\", clusters + 1)  # +1 para ficar no estilo do R (1, 2, ...)\n",
        "dados_com_clusters.to_excel(\"dados_com_clusters.xlsx\", index=False)\n",
        "\n",
        "print(dados_com_clusters.head())"
      ],
      "metadata": {
        "id": "uMwtP4pi826J"
      },
      "execution_count": null,
      "outputs": []
    },
    {
      "cell_type": "markdown",
      "source": [
        "# dados indexados / indexed data"
      ],
      "metadata": {
        "id": "JsqSG9Li6yUQ"
      }
    },
    {
      "cell_type": "code",
      "source": [
        "# === Ler os dados .CSV / Read .CSV data ===\n",
        "dados = pd.read_csv('NAME.csv', sep=';')  # especifica o separador / specifies the separator\n",
        "print(dados.head())"
      ],
      "metadata": {
        "id": "3rF26ndhq7NR"
      },
      "execution_count": null,
      "outputs": []
    },
    {
      "cell_type": "code",
      "source": [
        "# === Ler os dados .XLSX / Read .XSLX data ===\n",
        "dados = pd.read_excel(\"NAME.xlsx\")"
      ],
      "metadata": {
        "id": "E2mW6s7Yq90P"
      },
      "execution_count": null,
      "outputs": []
    },
    {
      "cell_type": "code",
      "source": [
        "# Se a primeira coluna for a classe, separa / If the first column is the class, separate\n",
        "if dados.iloc[:, 0].dtype == object or dados.iloc[:, 0].dtype == int:\n",
        "    classes = dados.iloc[:, 0]  # guarda as classes originais / saves the original classes\n",
        "    dados = dados.iloc[:, 1:]   # usa só as variáveis numéricas / uses only numeric variables\n",
        "\n",
        "# === Padronizar os dados / Standardize data ===\n",
        "scaler = StandardScaler()\n",
        "dados_padronizados = scaler.fit_transform(dados)"
      ],
      "metadata": {
        "id": "KrXaTqCT6wHf"
      },
      "execution_count": null,
      "outputs": []
    },
    {
      "cell_type": "code",
      "source": [
        "# === K-means ===\n",
        "np.random.seed(1234)\n",
        "kmeans = KMeans(n_clusters=2, n_init=25, random_state=1234)\n",
        "clusters = kmeans.fit_predict(dados_padronizados)"
      ],
      "metadata": {
        "id": "J9zi3fjI65p_"
      },
      "execution_count": null,
      "outputs": []
    },
    {
      "cell_type": "code",
      "source": [
        "# === PCA para reduzir a 2D para visualização / PCA to reduce to 2D for visualization ===\n",
        "pca = PCA(n_components=2)\n",
        "dados_pca = pca.fit_transform(dados_padronizados)"
      ],
      "metadata": {
        "id": "j_o_uW6I67NG"
      },
      "execution_count": null,
      "outputs": []
    },
    {
      "cell_type": "code",
      "source": [
        "# === Gráfico dos clusters / Cluster graph ===\n",
        "plt.figure(figsize=(8, 6))\n",
        "scatter = plt.scatter(dados_pca[:, 0], dados_pca[:, 1], c=clusters, cmap=\"tab10\", s=50, alpha=0.8)\n",
        "plt.xlabel(\"PC1\")\n",
        "plt.ylabel(\"PC2\")\n",
        "plt.title(\"K-means Clustering - PCA 2D\")\n",
        "plt.legend(*scatter.legend_elements(), title=\"Cluster\")\n",
        "plt.show()"
      ],
      "metadata": {
        "id": "hkH08S4S6-LQ"
      },
      "execution_count": null,
      "outputs": []
    },
    {
      "cell_type": "code",
      "source": [
        "# === Avaliação do agrupamento / Cluster evaluation ===\n",
        "# ARI e NMI\n",
        "from sklearn.metrics import adjusted_rand_score, normalized_mutual_info_score\n",
        "ari = adjusted_rand_score(classes, clusters)\n",
        "nmi = normalized_mutual_info_score(classes, clusters)\n",
        "print(f\"Adjusted Rand Index (ARI): {ari:.4f}\")\n",
        "print(f\"Normalized Mutual Information (NMI): {nmi:.4f}\")"
      ],
      "metadata": {
        "id": "A2IUwOf_7dQB"
      },
      "execution_count": null,
      "outputs": []
    }
  ]
}