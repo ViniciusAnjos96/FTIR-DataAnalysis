{
  "nbformat": 4,
  "nbformat_minor": 0,
  "metadata": {
    "colab": {
      "provenance": [],
      "authorship_tag": "ABX9TyOHXhW+EE9CyrNeryutV4pE"
    },
    "kernelspec": {
      "name": "python3",
      "display_name": "Python 3"
    },
    "language_info": {
      "name": "python"
    }
  },
  "cells": [
    {
      "cell_type": "code",
      "execution_count": null,
      "metadata": {
        "id": "q5ZiqtFFtRB6"
      },
      "outputs": [],
      "source": [
        "# Feature Importance Map\n",
        "# Change the NAME.csv\n",
        "\n",
        "import pandas as pd\n",
        "import numpy as np\n",
        "from sklearn.ensemble import RandomForestClassifier\n",
        "from sklearn.model_selection import train_test_split\n",
        "import matplotlib.pyplot as plt\n",
        "\n",
        "# Load the dataframe\n",
        "df = pd.read_csv('NAME.csv')\n",
        "\n",
        "# Assuming the first column is 'class' and the rest are spectral data\n",
        "# and the first row contains the wavenumber values (except for the first element)\n",
        "classes = df.iloc[:, 0]\n",
        "wavenumbers = df.columns[1:].astype(float) # Extract and convert wavenumbers\n",
        "spectra = df.iloc[:, 1:].values\n",
        "\n",
        "# Split data into training and testing sets\n",
        "X_train, X_test, y_train, y_test = train_test_split(spectra, classes, test_size=0.2, random_state=42)\n",
        "\n",
        "# Train a Random Forest Classifier\n",
        "# You can adjust n_estimators and other parameters\n",
        "model = RandomForestClassifier(n_estimators=100, random_state=42)\n",
        "model.fit(X_train, y_train)\n",
        "\n",
        "# Get feature importances\n",
        "importances = model.feature_importances_\n",
        "\n",
        "# Create a DataFrame to store wavenumbers and importances\n",
        "importance_df = pd.DataFrame({'Wavenumber': wavenumbers, 'Importance': importances})\n",
        "\n",
        "# Sort by importance in descending order\n",
        "importance_df = importance_df.sort_values(by='Importance', ascending=False)\n",
        "\n",
        "# Plot the feature importances\n",
        "plt.figure(figsize=(12, 6))\n",
        "plt.bar(importance_df['Wavenumber'], importance_df['Importance'])\n",
        "plt.xlabel('Wavenumber ($cm^{-1}$)')\n",
        "plt.ylabel('Feature Importance')\n",
        "plt.title('Feature Importance Map for FTIR Spectra')\n",
        "plt.xticks(rotation=90) # Rotate x-axis labels if they overlap\n",
        "plt.tight_layout()\n",
        "plt.show()\n",
        "\n",
        "# Print the most important features\n",
        "print(\"Top 10 Most Important Wavenumbers:\")\n",
        "print(importance_df.head(10))\n"
      ]
    }
  ]
}