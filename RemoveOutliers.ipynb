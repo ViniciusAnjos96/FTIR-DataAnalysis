{
  "nbformat": 4,
  "nbformat_minor": 0,
  "metadata": {
    "colab": {
      "provenance": [],
      "authorship_tag": "ABX9TyN0za76sGKt0m3mfbFQQo+B"
    },
    "kernelspec": {
      "name": "python3",
      "display_name": "Python 3"
    },
    "language_info": {
      "name": "python"
    }
  },
  "cells": [
    {
      "cell_type": "code",
      "source": [
        "# === Pacotes necessários / Required packages ===\n",
        "import pandas as pd\n",
        "import numpy as np\n",
        "import matplotlib.pyplot as plt\n",
        "from sklearn.preprocessing import StandardScaler, MinMaxScaler\n",
        "from scipy.spatial.distance import mahalanobis"
      ],
      "metadata": {
        "id": "yPPN-LULZPhV"
      },
      "execution_count": null,
      "outputs": []
    },
    {
      "cell_type": "markdown",
      "source": [
        "# Sem classe indexada / No indexed class"
      ],
      "metadata": {
        "id": "Ol-HY7ZIp1Tk"
      }
    },
    {
      "cell_type": "code",
      "source": [
        "# ===== 1. Ler os dados .XLSX / Read .XLSX data =====\n",
        "df = pd.read_excel(\"NAME.xlsx\")\n",
        "print(df.head())"
      ],
      "metadata": {
        "id": "sDzLuAo_xKTN"
      },
      "execution_count": null,
      "outputs": []
    },
    {
      "cell_type": "code",
      "source": [
        "# === Ler os dados .CSV / Read .CSV data ===\n",
        "df = pd.read_csv('NAME.csv', sep=';')  # especifica o separador\n",
        "print(df.head())"
      ],
      "metadata": {
        "id": "nXeswDGcxPxC"
      },
      "execution_count": null,
      "outputs": []
    },
    {
      "cell_type": "code",
      "source": [
        "# Selecionar apenas colunas numéricas / Select only numeric columns\n",
        "df = df.select_dtypes(include=[np.number])\n",
        "\n",
        "print(df.head())"
      ],
      "metadata": {
        "id": "WPCIhPskZRZe"
      },
      "execution_count": null,
      "outputs": []
    },
    {
      "cell_type": "code",
      "source": [
        "# === Normalizar e padronizar / Normalize and standardize ===\n",
        "scaler_std = StandardScaler()\n",
        "df_pad = pd.DataFrame(scaler_std.fit_transform(df), columns=df.columns)\n",
        "\n",
        "df_norm = df.copy()\n",
        "for col in df.columns:\n",
        "    x = df[col]\n",
        "    df_norm[col] = (x - x.min()) / (x.max() - x.min())"
      ],
      "metadata": {
        "id": "Cr5irqBTZS0_"
      },
      "execution_count": null,
      "outputs": []
    },
    {
      "cell_type": "code",
      "source": [
        "# === Plotagem de histogramas / Histogram plotting ===\n",
        "for col in df.columns:\n",
        "    x = df[col].dropna()\n",
        "\n",
        "    plt.figure()\n",
        "    plt.hist(x, bins=20, density=True, color=\"blue\", alpha=0.7)\n",
        "\n",
        "    media = x.mean()\n",
        "    desvio = x.std()\n",
        "\n",
        "    xx = np.linspace(x.min(), x.max(), 100)\n",
        "    yy = (1/(desvio*np.sqrt(2*np.pi))) * np.exp(-0.5*((xx-media)/desvio)**2)\n",
        "    plt.plot(xx, yy, color=\"red\", linewidth=2)\n",
        "\n",
        "    plt.title(f\"Hist of {col}\")\n",
        "    plt.xlabel(col)\n",
        "    plt.ylabel(\"Density\")\n",
        "    plt.show()\n"
      ],
      "metadata": {
        "id": "TCmy0qO8ZVuv"
      },
      "execution_count": null,
      "outputs": []
    },
    {
      "cell_type": "code",
      "source": [
        "# === Gráficos de dispersão / Scatter Plots ===\n",
        "for col in df.columns:\n",
        "    x = df[col]\n",
        "    media = x.mean()\n",
        "    desvio = x.std()\n",
        "    limite_sup = media + 3*desvio\n",
        "    limite_inf = media - 3*desvio\n",
        "\n",
        "    ylim_inf = min(limite_inf, x.min())\n",
        "    ylim_sup = max(limite_sup, x.max())\n",
        "\n",
        "    plt.figure()\n",
        "    plt.scatter(range(len(x)), x, color=\"blue\", s=20)\n",
        "    plt.axhline(media, color=\"red\", linewidth=2)\n",
        "    plt.axhline(limite_sup, color=\"red\", linewidth=2)\n",
        "    plt.axhline(limite_inf, color=\"red\", linewidth=2)\n",
        "    plt.ylim([ylim_inf, ylim_sup])\n",
        "\n",
        "    plt.title(f\"Dispersion of {col}\")\n",
        "    plt.xlabel(\"Observation index\")\n",
        "    plt.ylabel(col)\n",
        "    plt.show()"
      ],
      "metadata": {
        "id": "KND5LT2GZXyB"
      },
      "execution_count": null,
      "outputs": []
    },
    {
      "cell_type": "code",
      "source": [
        "# === Limpeza de outliers univariados / Univariate outlier cleaning ===\n",
        "df_cleaned = df.copy()\n",
        "for col in df.columns:\n",
        "    media = df_cleaned[col].mean()\n",
        "    desvio = df_cleaned[col].std()\n",
        "    limite_sup = media + 3*desvio\n",
        "    limite_inf = media - 3*desvio\n",
        "    df_cleaned = df_cleaned[(df_cleaned[col] >= limite_inf) & (df_cleaned[col] <= limite_sup)]"
      ],
      "metadata": {
        "id": "bK67C1T6ZZfg"
      },
      "execution_count": null,
      "outputs": []
    },
    {
      "cell_type": "code",
      "source": [
        "# === Outliers Multivariados (Distância de Mahalanobis) / Multivariate Outliers (Mahalanobis Distance) ===\n",
        "\n",
        "# Calcular médias e matriz de covariância dos dados limpos / Calculate means and covariance matrix of cleaned data\n",
        "medias_sdi = df_cleaned.mean().values\n",
        "cov_sdi = np.cov(df_cleaned.values, rowvar=False)\n",
        "inv_cov_sdi = np.linalg.inv(cov_sdi)\n",
        "\n",
        "# Calcular distância de Mahalanobis para cada observação / Calculate Mahalanobis distance for each observation\n",
        "sdi = []\n",
        "for i in range(len(df_cleaned)):\n",
        "    x = df_cleaned.iloc[i].values\n",
        "    dist = mahalanobis(x, medias_sdi, inv_cov_sdi)\n",
        "    sdi.append(dist)\n",
        "sdi = np.array([mahalanobis(x, medias_sdi, inv_cov_sdi)**2 for x in df_cleaned.values])\n",
        "\n",
        "# Estatísticas da distância / Distance statistics\n",
        "medias_sdi_val = sdi.mean()\n",
        "desvpad_sdi = sdi.std()\n",
        "cortesup = medias_sdi_val + 3*desvpad_sdi\n",
        "corteinf = medias_sdi_val - 3*desvpad_sdi\n",
        "\n",
        "# Plotar as distâncias / Plot the distances\n",
        "plt.figure()\n",
        "plt.scatter(range(len(sdi)), sdi, c=\"blue\", s=20)\n",
        "plt.axhline(medias_sdi_val, color=\"red\", linewidth=3)\n",
        "plt.axhline(cortesup, color=\"red\", linestyle=\"--\", linewidth=2)\n",
        "plt.axhline(corteinf, color=\"red\", linestyle=\"--\", linewidth=2)\n",
        "plt.title(\"Statistical Distances - Mahalanobis\")\n",
        "plt.xlabel(\"Observation\")\n",
        "plt.ylabel(\"Statistical Distances\")\n",
        "plt.show()\n",
        "\n",
        "# Remover outliers multivariados / Remove multivariate outliers\n",
        "df_cleaned = df_cleaned[sdi <= cortesup]"
      ],
      "metadata": {
        "id": "XuXdzLH4a_1v"
      },
      "execution_count": null,
      "outputs": []
    },
    {
      "cell_type": "code",
      "source": [
        "# === Visualização pós-limpeza / Post-cleaning view ===\n",
        "for col in df_cleaned.columns:\n",
        "    x = df_cleaned[col]\n",
        "    media = x.mean()\n",
        "    desvio = x.std()\n",
        "    limite_sup = media + 3*desvio\n",
        "    limite_inf = media - 3*desvio\n",
        "\n",
        "    ylim_inf = min(limite_inf, x.min())\n",
        "    ylim_sup = max(limite_sup, x.max())\n",
        "\n",
        "    plt.figure()\n",
        "    plt.scatter(range(len(x)), x, color=\"blue\", s=20)\n",
        "    plt.axhline(media, color=\"red\", linewidth=2)\n",
        "    plt.axhline(limite_sup, color=\"red\", linewidth=2)\n",
        "    plt.axhline(limite_inf, color=\"red\", linewidth=2)\n",
        "    plt.ylim([ylim_inf, ylim_sup])\n",
        "\n",
        "    plt.title(f\"Dispersion of {col} (clean data)\")\n",
        "    plt.xlabel(\"Observation index\")\n",
        "    plt.ylabel(col)\n",
        "    plt.show()\n"
      ],
      "metadata": {
        "id": "x5eSb8d9ZbeC"
      },
      "execution_count": null,
      "outputs": []
    },
    {
      "cell_type": "code",
      "execution_count": null,
      "metadata": {
        "id": "5y2kfUeoYZac"
      },
      "outputs": [],
      "source": [
        "# === Salvar em Excel / Save to Excel ===\n",
        "df_cleaned.to_excel(\"Dados_limpos.xlsx\", index=False)\n"
      ]
    },
    {
      "cell_type": "code",
      "source": [
        "# === Salvar em CSV / Save to CSV ===\n",
        "df_cleaned.to_csv(\"Dados_limpos.csv\", index=False)"
      ],
      "metadata": {
        "id": "F9CNtz8oxrW_"
      },
      "execution_count": null,
      "outputs": []
    },
    {
      "cell_type": "markdown",
      "source": [
        "# Com classe indexada / With indexed class"
      ],
      "metadata": {
        "id": "8IRHso-iqjTt"
      }
    },
    {
      "cell_type": "code",
      "source": [
        "# ===== 1. Ler os dados .XLSX / Read .XLSX data =====\n",
        "df = pd.read_excel(\"generated_data.xlsx\")\n",
        "print(df.head())"
      ],
      "metadata": {
        "id": "GfRWzj6bx5Zg"
      },
      "execution_count": null,
      "outputs": []
    },
    {
      "cell_type": "code",
      "source": [
        "# === Ler os dados .CSV / Read .CSV data ===\n",
        "df = pd.read_csv('generated_data.csv', sep=';')  # especifica o separador / specifies the separator\n",
        "print(df.head())"
      ],
      "metadata": {
        "id": "YDlA1dP9x9GP"
      },
      "execution_count": null,
      "outputs": []
    },
    {
      "cell_type": "code",
      "source": [
        "# Separar classe e dados numéricos / Separate class and numeric data\n",
        "classe = df.iloc[:, 0]\n",
        "X = df.iloc[:, 1:].select_dtypes(include=[np.number])\n",
        "\n",
        "print(X.head())"
      ],
      "metadata": {
        "id": "qiZyYW0eqpOE"
      },
      "execution_count": null,
      "outputs": []
    },
    {
      "cell_type": "code",
      "source": [
        "# === Normalizar e padronizar / Normalize and standardize ===\n",
        "scaler_std = StandardScaler()\n",
        "df_pad = pd.DataFrame(scaler_std.fit_transform(X), columns=X.columns)\n",
        "\n",
        "df_norm = X.copy()\n",
        "for col in X.columns:\n",
        "    x = X[col]\n",
        "    df_norm[col] = (x - x.min()) / (x.max() - x.min())"
      ],
      "metadata": {
        "id": "2p9--uvIqrmq"
      },
      "execution_count": null,
      "outputs": []
    },
    {
      "cell_type": "code",
      "source": [
        "# === Plotagem de histogramas / Histogram plotting ===\n",
        "for col in X.columns:\n",
        "    x = X[col].dropna()\n",
        "    plt.figure()\n",
        "    plt.hist(x, bins=20, density=True, color=\"blue\", alpha=0.7)\n",
        "    media = x.mean()\n",
        "    desvio = x.std()\n",
        "    xx = np.linspace(x.min(), x.max(), 100)\n",
        "    yy = (1/(desvio*np.sqrt(2*np.pi))) * np.exp(-0.5*((xx-media)/desvio)**2)\n",
        "    plt.plot(xx, yy, color=\"red\", linewidth=2)\n",
        "    plt.title(f\"Hist of {col}\")\n",
        "    plt.xlabel(col)\n",
        "    plt.ylabel(\"Density\")\n",
        "    plt.show()"
      ],
      "metadata": {
        "id": "v4IQaF--qwsY"
      },
      "execution_count": null,
      "outputs": []
    },
    {
      "cell_type": "code",
      "source": [
        "# === Gráficos de dispersão / Scatter Plots ===\n",
        "for col in X.columns:\n",
        "    x = X[col]\n",
        "    media = x.mean()\n",
        "    desvio = x.std()\n",
        "    limite_sup = media + 3*desvio\n",
        "    limite_inf = media - 3*desvio\n",
        "    ylim_inf = min(limite_inf, x.min())\n",
        "    ylim_sup = max(limite_sup, x.max())\n",
        "    plt.figure()\n",
        "    plt.scatter(range(len(x)), x, color=\"blue\", s=20)\n",
        "    plt.axhline(media, color=\"red\", linewidth=2)\n",
        "    plt.axhline(limite_sup, color=\"red\", linewidth=2)\n",
        "    plt.axhline(limite_inf, color=\"red\", linewidth=2)\n",
        "    plt.ylim([ylim_inf, ylim_sup])\n",
        "    plt.title(f\"Dispersion of {col}\")\n",
        "    plt.xlabel(\"Observation index\")\n",
        "    plt.ylabel(col)\n",
        "    plt.show()"
      ],
      "metadata": {
        "id": "yO6jTwiZqyA4"
      },
      "execution_count": null,
      "outputs": []
    },
    {
      "cell_type": "code",
      "source": [
        "# === Limpeza de outliers univariados / Univariate outlier cleaning ===\n",
        "df_cleaned = X.copy()\n",
        "for col in X.columns:\n",
        "    media = df_cleaned[col].mean()\n",
        "    desvio = df_cleaned[col].std()\n",
        "    limite_sup = media + 3*desvio\n",
        "    limite_inf = media - 3*desvio\n",
        "    df_cleaned = df_cleaned[(df_cleaned[col] >= limite_inf) & (df_cleaned[col] <= limite_sup)]"
      ],
      "metadata": {
        "id": "2Kz_wQvFqzhI"
      },
      "execution_count": null,
      "outputs": []
    },
    {
      "cell_type": "code",
      "source": [
        "# === Outliers Multivariados (Distância de Mahalanobis) / Multivariate Outliers (Mahalanobis Distance) ===\n",
        "\n",
        "# Calcular médias e matriz de covariância dos dados limpos / Calculate means and covariance matrix of cleaned data\n",
        "medias_sdi = df_cleaned.mean().values\n",
        "cov_sdi = np.cov(df_cleaned.values, rowvar=False)\n",
        "inv_cov_sdi = np.linalg.inv(cov_sdi)\n",
        "\n",
        "# Calcular distância de Mahalanobis para cada observação / Calculate Mahalanobis distance for each observation\n",
        "sdi = []\n",
        "for i in range(len(df_cleaned)):\n",
        "    x = df_cleaned.iloc[i].values\n",
        "    dist = mahalanobis(x, medias_sdi, inv_cov_sdi)\n",
        "    sdi.append(dist)\n",
        "sdi = np.array([mahalanobis(x, medias_sdi, inv_cov_sdi)**2 for x in df_cleaned.values])\n",
        "\n",
        "# Estatísticas da distância / Distance statistics\n",
        "medias_sdi_val = sdi.mean()\n",
        "desvpad_sdi = sdi.std()\n",
        "cortesup = medias_sdi_val + 3*desvpad_sdi\n",
        "corteinf = medias_sdi_val - 3*desvpad_sdi\n",
        "\n",
        "# Plotar as distâncias / Plot the distances\n",
        "plt.figure()\n",
        "plt.scatter(range(len(sdi)), sdi, c=\"blue\", s=20)\n",
        "plt.axhline(medias_sdi_val, color=\"red\", linewidth=3)\n",
        "plt.axhline(cortesup, color=\"red\", linestyle=\"--\", linewidth=2)\n",
        "plt.axhline(corteinf, color=\"red\", linestyle=\"--\", linewidth=2)\n",
        "plt.title(\"Statistical Distances (Mahalanobis)\")\n",
        "plt.xlabel(\"Observation\")\n",
        "plt.ylabel(\"Statistical distance\")\n",
        "plt.show()\n",
        "\n",
        "# Remover outliers multivariados / Remove multivariate outliers\n",
        "df_cleaned = df_cleaned[sdi <= cortesup]"
      ],
      "metadata": {
        "id": "Y_crJflqq1zn"
      },
      "execution_count": null,
      "outputs": []
    },
    {
      "cell_type": "code",
      "source": [
        "# === Visualização pós-limpeza / Post-cleaning view ===\n",
        "for col in df_cleaned.columns:\n",
        "    x = df_cleaned[col]\n",
        "    media = x.mean()\n",
        "    desvio = x.std()\n",
        "    limite_sup = media + 3*desvio\n",
        "    limite_inf = media - 3*desvio\n",
        "    ylim_inf = min(limite_inf, x.min())\n",
        "    ylim_sup = max(limite_sup, x.max())\n",
        "    plt.figure()\n",
        "    plt.scatter(range(len(x)), x, color=\"blue\", s=20)\n",
        "    plt.axhline(media, color=\"red\", linewidth=2)\n",
        "    plt.axhline(limite_sup, color=\"red\", linewidth=2)\n",
        "    plt.axhline(limite_inf, color=\"red\", linewidth=2)\n",
        "    plt.ylim([ylim_inf, ylim_sup])\n",
        "    plt.title(f\"Dispersion of {col} (Clean Data)\")\n",
        "    plt.xlabel(\"Observation index\")\n",
        "    plt.ylabel(col)\n",
        "    plt.show()"
      ],
      "metadata": {
        "id": "g7208c8SqmRr"
      },
      "execution_count": null,
      "outputs": []
    },
    {
      "cell_type": "code",
      "source": [
        "# === Adicionar coluna de classe de volta / Add class column back ===\n",
        "df_cleaned[\"Classe\"] = classe.loc[df_cleaned.index]\n",
        "\n",
        "# Reorder columns to put 'Classe' as the first column\n",
        "cols = ['Classe'] + [col for col in df_cleaned.columns if col != 'Classe']\n",
        "df_cleaned = df_cleaned[cols]"
      ],
      "metadata": {
        "id": "pZYacCeAq4g9"
      },
      "execution_count": null,
      "outputs": []
    },
    {
      "cell_type": "code",
      "source": [
        "# === Salvar em Excel / Save to Excel ===\n",
        "df_cleaned.to_excel(\"Dados_limpos.xlsx\", index=False)"
      ],
      "metadata": {
        "id": "rk7PZTAoyIqo"
      },
      "execution_count": null,
      "outputs": []
    },
    {
      "cell_type": "code",
      "source": [
        "# === Salvar em CSV / Save to CSV ===\n",
        "df_cleaned.to_csv(\"Dados_limpos.csv\", index=False)"
      ],
      "metadata": {
        "id": "wUiB4N1kySpK"
      },
      "execution_count": null,
      "outputs": []
    }
  ]
}