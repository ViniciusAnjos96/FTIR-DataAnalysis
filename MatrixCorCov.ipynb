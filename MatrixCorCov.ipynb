{
  "nbformat": 4,
  "nbformat_minor": 0,
  "metadata": {
    "colab": {
      "provenance": [],
      "authorship_tag": "ABX9TyNAXW8b3+ONCnKQYKrLrXjc"
    },
    "kernelspec": {
      "name": "python3",
      "display_name": "Python 3"
    },
    "language_info": {
      "name": "python"
    }
  },
  "cells": [
    {
      "cell_type": "code",
      "source": [
        "# === Pacotes necessários / Required packages ===\n",
        "import pandas as pd\n",
        "import numpy as np"
      ],
      "metadata": {
        "id": "VAR_qmFVdAup"
      },
      "execution_count": null,
      "outputs": []
    },
    {
      "cell_type": "markdown",
      "source": [
        "# Sem classe indexada / Without Indexed Class"
      ],
      "metadata": {
        "id": "5D_IdxyinaYI"
      }
    },
    {
      "cell_type": "code",
      "source": [
        "# ===== 1. Ler os dados .XLSX / Read .XLSX data =====\n",
        "dados = pd.read_excel(\"NAME.xlsx\")\n",
        "print(dados.head())"
      ],
      "metadata": {
        "id": "bbuExRFVdDHt"
      },
      "execution_count": null,
      "outputs": []
    },
    {
      "cell_type": "code",
      "source": [
        "# === Ler os dados .CSV / Read .CSV data===\n",
        "dados = pd.read_csv('NAME.csv', sep=';')  # especifica o separador / specifies the separator\n",
        "print(dados.head())"
      ],
      "metadata": {
        "id": "7Ke2qRwBujdH"
      },
      "execution_count": null,
      "outputs": []
    },
    {
      "cell_type": "code",
      "source": [
        "# === Matriz de Covariância / Covariance Matrix ===\n",
        "matriz_cov = dados.cov()\n",
        "print(\"Covariance Matrix:\\n\")\n",
        "print(matriz_cov.round(4))"
      ],
      "metadata": {
        "id": "tNP5hrQjdEdg"
      },
      "execution_count": null,
      "outputs": []
    },
    {
      "cell_type": "code",
      "source": [
        "# === Matriz de Correlação / Correlation Matrix ===\n",
        "matriz_cor = dados.corr()\n",
        "print(\"\\nCorrelation Matrix:\\n\")\n",
        "print(matriz_cor.round(4))"
      ],
      "metadata": {
        "id": "A8LB3etjdJOu"
      },
      "execution_count": null,
      "outputs": []
    },
    {
      "cell_type": "code",
      "execution_count": null,
      "metadata": {
        "id": "LuprTYUec6ft"
      },
      "outputs": [],
      "source": [
        "# === Salvar em Excel com abas separadas / Save to Excel with separate tabs ===\n",
        "with pd.ExcelWriter(\"matrizes_cov_cor.xlsx\", engine=\"openpyxl\") as writer:\n",
        "    matriz_cov.to_excel(writer, sheet_name=\"Covariance Matrix\")\n",
        "    matriz_cor.to_excel(writer, sheet_name=\"Correlation Matrix\")\n"
      ]
    },
    {
      "cell_type": "code",
      "source": [
        "# === Salvar em CSV / Save to CSV ===\n",
        "matriz_cov.to_csv(\"matriz_covariance.csv\")\n",
        "matriz_cor.to_csv(\"matriz_correlation.csv\")"
      ],
      "metadata": {
        "id": "LxMSPj1svRth"
      },
      "execution_count": null,
      "outputs": []
    },
    {
      "cell_type": "markdown",
      "source": [
        "# Com Classe indexada / With Indexed Class"
      ],
      "metadata": {
        "id": "0xh8nCeWn6tZ"
      }
    },
    {
      "cell_type": "code",
      "source": [
        "# ===== 1. Ler os dados .XLSX / Read .XLSX data =====\n",
        "dados = pd.read_excel(\"NAME.xlsx\")\n",
        "print(dados.head())"
      ],
      "metadata": {
        "id": "_JcAzossux1P"
      },
      "execution_count": null,
      "outputs": []
    },
    {
      "cell_type": "code",
      "source": [
        "# === Ler os dados .CSV / Read .CSV data===\n",
        "dados = pd.read_csv('NAME.csv', sep=';')  # especifica o separador / specifies the separator\n",
        "print(dados.head())"
      ],
      "metadata": {
        "id": "XyRv4sSau2DE"
      },
      "execution_count": null,
      "outputs": []
    },
    {
      "cell_type": "code",
      "source": [
        "# Primeira coluna é a classe / First column is the class\n",
        "classe = dados.iloc[:, 0]\n",
        "X = dados.iloc[:, 1:]      # apenas variáveis numéricas / only numeric variables"
      ],
      "metadata": {
        "id": "9qB_lS3xoSNm"
      },
      "execution_count": null,
      "outputs": []
    },
    {
      "cell_type": "code",
      "source": [
        "# === Matriz de Correlação / Correlation Matrix ===\n",
        "matriz_cor = X.corr()\n",
        "print(\"\\nCorrelation Matrix:\\n\")\n",
        "print(matriz_cor.round(4))"
      ],
      "metadata": {
        "id": "mLAiVjapoU3V"
      },
      "execution_count": null,
      "outputs": []
    },
    {
      "cell_type": "code",
      "source": [
        "# === Matriz de Covariância / Covariance Matrix ===\n",
        "matriz_cov = X.cov()\n",
        "print(\"Covariance Matrix:\\n\")\n",
        "print(matriz_cov.round(4))"
      ],
      "metadata": {
        "id": "bdq_KIADoX6X"
      },
      "execution_count": null,
      "outputs": []
    },
    {
      "cell_type": "code",
      "source": [
        "# === Salvar em Excel com abas separadas / Save to Excel with separate tabs ===\n",
        "with pd.ExcelWriter(\"matrizes_cov_cor.xlsx\", engine=\"openpyxl\") as writer:\n",
        "    matriz_cov.to_excel(writer, sheet_name=\"Covariance Matrix\")\n",
        "    matriz_cor.to_excel(writer, sheet_name=\"Correlation Matrix\")\n"
      ],
      "metadata": {
        "id": "RYUJbQHin5lY"
      },
      "execution_count": null,
      "outputs": []
    },
    {
      "cell_type": "code",
      "source": [
        "# === Salvar em CSV / Save to CSV ===\n",
        "matriz_cov.to_csv(\"matriz_covariance.csv\")\n",
        "matriz_cor.to_csv(\"matriz_correlation.csv\")"
      ],
      "metadata": {
        "id": "wZMUly3wu80c"
      },
      "execution_count": null,
      "outputs": []
    }
  ]
}