{
  "nbformat": 4,
  "nbformat_minor": 0,
  "metadata": {
    "colab": {
      "provenance": [],
      "authorship_tag": "ABX9TyO/oJde5YLkI32jr2xaPwnH"
    },
    "kernelspec": {
      "name": "python3",
      "display_name": "Python 3"
    },
    "language_info": {
      "name": "python"
    }
  },
  "cells": [
    {
      "cell_type": "code",
      "source": [
        "import numpy as np\n",
        "import pandas as pd\n",
        "import matplotlib.pyplot as plt"
      ],
      "metadata": {
        "id": "kqO95wP77lLd"
      },
      "execution_count": null,
      "outputs": []
    },
    {
      "cell_type": "code",
      "source": [
        "def add_gaussian_noise(data, mean=0.1, std=0.1):\n",
        "    \"\"\"\n",
        "    Adiciona ruído gaussiano aos dados espectrais, tratando NaNs. / Adds Gaussian noise to spectral data, treating NaNs.\n",
        "    \"\"\"\n",
        "    noise = np.random.normal(mean, std, data.shape)\n",
        "    noisy_data = data + noise\n",
        "    return noisy_data\n",
        "\n",
        "# === Configurações ===\n",
        "arquivo_entrada = 'dataset_augmented.csv'     # Substitua com o nome do seu arquivo / Replace with your file name\n",
        "arquivo_saida = 'dados_ftir_com_ruido.csv'  # Arquivo de saída / Output file\n",
        "adicionar_copias = 1                        # Quantas cópias com ruído gerar / How many noisy copies to generate\n",
        "std_ruido = 0.05                           # Desvio padrão do ruído / Noise standard deviation"
      ],
      "metadata": {
        "id": "MqrabX4p7uE-"
      },
      "execution_count": null,
      "outputs": []
    },
    {
      "cell_type": "code",
      "source": [
        "# === Ler os dados / Read the data .CSV ===\n",
        "df = pd.read_csv(arquivo_entrada)"
      ],
      "metadata": {
        "id": "KrGqKPEp7veG"
      },
      "execution_count": null,
      "outputs": []
    },
    {
      "cell_type": "code",
      "source": [
        "# === Ler os dados / Read the data .XLSX ===\n",
        "df = pd.read_excel(arquivo_entrada)"
      ],
      "metadata": {
        "id": "ebEMl2x775ps"
      },
      "execution_count": null,
      "outputs": []
    },
    {
      "cell_type": "code",
      "source": [
        "# Primeira coluna = classe / First column = class\n",
        "y = df.iloc[:, 0].values\n",
        "X = df.iloc[:, 1:].values\n",
        "\n",
        "# === Gerar dados aumentados /  Generate augmented data ===\n",
        "X_aug = [X]                                 # original\n",
        "y_aug = [y]                                 # original\n",
        "\n",
        "for _ in range(adicionar_copias):\n",
        "    X_noisy = add_gaussian_noise(X, std=std_ruido)\n",
        "    X_aug.append(X_noisy)\n",
        "    y_aug.append(y)"
      ],
      "metadata": {
        "id": "G81feOLm7x61"
      },
      "execution_count": null,
      "outputs": []
    },
    {
      "cell_type": "code",
      "source": [
        "# === Concatenar tudo / Concatenate everything ===\n",
        "X_total = np.vstack(X_aug)\n",
        "y_total = np.concatenate(y_aug)\n",
        "\n",
        "# === Salvar em novo DataFrame / Save to new DataFrame ===\n",
        "df_total = pd.DataFrame(X_total)\n",
        "df_total.insert(0, 'classe', y_total)  # insere a coluna de classe na frente / inserts the class column in front\n",
        "\n",
        "# Fill NaN values with the mean of the numeric columns\n",
        "numeric_cols = df_total.select_dtypes(include=np.number).columns\n",
        "df_total[numeric_cols] = df_total[numeric_cols].fillna(df_total[numeric_cols].mean())"
      ],
      "metadata": {
        "id": "8EDqLNJg70hE"
      },
      "execution_count": null,
      "outputs": []
    },
    {
      "cell_type": "code",
      "execution_count": null,
      "metadata": {
        "id": "nC81KMFc7jvz"
      },
      "outputs": [],
      "source": [
        "# === Visualizar um exemplo / View an example ===\n",
        "plt.figure(figsize=(10, 4))\n",
        "plt.plot(X[0], label='Original')\n",
        "plt.plot(X_noisy[0], label='With noise', alpha=0.7)\n",
        "plt.title('FTIR spectrum with Gaussian noise')\n",
        "plt.xlabel('Wave number (index)')\n",
        "plt.ylabel('Intensity')\n",
        "plt.legend()\n",
        "plt.tight_layout()\n",
        "plt.show()\n"
      ]
    },
    {
      "cell_type": "code",
      "source": [
        "# === Salvar para CSV / Save to CSV ===\n",
        "df_total.to_csv(arquivo_saida, index=False)\n",
        "print(f'Noisy data saved in:: {arquivo_saida}')"
      ],
      "metadata": {
        "id": "cMBQ-s1571z0"
      },
      "execution_count": null,
      "outputs": []
    }
  ]
}