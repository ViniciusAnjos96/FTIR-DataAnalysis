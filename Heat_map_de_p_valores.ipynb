{
  "nbformat": 4,
  "nbformat_minor": 0,
  "metadata": {
    "colab": {
      "provenance": [],
      "authorship_tag": "ABX9TyP9RatXRkbOvZMoG8GZ/tV1"
    },
    "kernelspec": {
      "name": "python3",
      "display_name": "Python 3"
    },
    "language_info": {
      "name": "python"
    }
  },
  "cells": [
    {
      "source": [
        "# Heat map of p-valores\n",
        "# Change the NAME.csv\n",
        "\n",
        "import pandas as pd\n",
        "import numpy as np\n",
        "import seaborn as sns\n",
        "import matplotlib.pyplot as plt\n",
        "from scipy.stats import f_oneway\n",
        "\n",
        "# Carregar o arquivo CSV\n",
        "df = pd.read_csv('NAME.csv')\n",
        "\n",
        "# A primeira linha é o número de onda (colunas), e a primeira coluna é a classe (rótulo)\n",
        "# As demais linhas são os espectros\n",
        "wavenumbers = df.columns[1:].astype(float)\n",
        "classes = df.iloc[:, 0]\n",
        "spectra = df.iloc[:, 1:]\n",
        "\n",
        "# Inicializar uma lista para armazenar os p-values para cada número de onda\n",
        "p_values = []\n",
        "\n",
        "# Realizar o teste ANOVA para cada número de onda (coluna)\n",
        "# Iterar pelas colunas do DataFrame 'spectra'\n",
        "for col in spectra.columns:\n",
        "    # Obter os dados para o número de onda atual (coluna)\n",
        "    wavenumber_data = spectra[col]\n",
        "    # Agrupar os dados por classe e extrair os valores\n",
        "    data_by_class = [group.values for name, group in wavenumber_data.groupby(classes)]\n",
        "    # Realizar o teste ANOVA\n",
        "    fvalue, pvalue = f_oneway(*data_by_class)\n",
        "    p_values.append(pvalue)\n",
        "\n",
        "# Converter a lista de p-valores em um array numpy\n",
        "p_values = np.array(p_values)\n",
        "\n",
        "# Para o heatmap, podemos usar -log10(p) para destacar valores pequenos (significativos)\n",
        "# Adicionar um pequeno valor (epsilon) para evitar log(0)\n",
        "epsilon = 1e-100\n",
        "log_p_values = -np.log10(p_values + epsilon)\n",
        "\n",
        "# Criar o heatmap\n",
        "plt.figure(figsize=(15, 5))\n",
        "sns.heatmap([log_p_values], cmap=\"YlGnBu\", annot=False) # Use [log_p_values] para ter uma única linha no heatmap\n",
        "plt.title('Heatmap de -log10(p-valores) por Número de Onda')\n",
        "plt.xlabel('Índice do Número de Onda')\n",
        "plt.ylabel('') # Não precisamos de rótulo no eixo y para uma única linha\n",
        "plt.yticks([]) # Remover os ticks do eixo y\n",
        "plt.show()\n",
        "\n",
        "# Opcional: Para identificar as regiões com menor p-valor (maior significância estatística),\n",
        "# podemos encontrar os índices dos p-valores mais baixos\n",
        "significant_indices = np.argsort(p_values)[:10] # Pegar os 10 menores p-valores\n",
        "print(\"\\nRegiões do espectro (índices dos números de onda) com os menores p-valores:\")\n",
        "print(significant_indices)\n",
        "print(\"Números de onda correspondentes:\")\n",
        "print(wavenumbers[significant_indices])"
      ],
      "cell_type": "code",
      "metadata": {
        "id": "YmG9zzNDrfoX"
      },
      "execution_count": null,
      "outputs": []
    },
    {
      "cell_type": "code",
      "source": [
        "# Graph with wavenumber\n",
        "\n",
        "import matplotlib.pyplot as plt\n",
        "import numpy as np\n",
        "# Criar o heatmap com número de onda no eixo x\n",
        "plt.figure(figsize=(15, 5))\n",
        "sns.heatmap([log_p_values], cmap=\"YlGnBu\", annot=False)\n",
        "\n",
        "# Definir os ticks do eixo x com os números de onda correspondentes aos índices\n",
        "# Vamos mostrar apenas alguns ticks para não sobrecarregar o eixo\n",
        "tick_indices = np.linspace(0, len(wavenumbers) - 1, 10, dtype=int)\n",
        "plt.xticks(tick_indices + 0.5, [f'{wavenumbers[i]:.0f}' for i in tick_indices]) # Adiciona 0.5 para centralizar o tick entre as células\n",
        "\n",
        "plt.title('Heatmap of -log10(p-values) by Wavenumber')\n",
        "plt.xlabel('Wavenumber')\n",
        "plt.ylabel('') # No need for a y-axis label for a single row\n",
        "plt.yticks([]) # Remove y-axis ticks\n",
        "plt.show()\n",
        "\n",
        "# Opcional: Para identificar as regiões com menor p-valor (maior significância estatística),\n",
        "# podemos encontrar os índices dos p-valores mais baixos\n",
        "significant_indices = np.argsort(p_values)[:10] # Pegar os 10 menores p-valores\n",
        "print(\"\\nSpectral regions (wavenumber indices) with the lowest p-values:\")\n",
        "print(significant_indices)\n",
        "print(\"Corresponding wavenumbers:\")\n",
        "wavenumbers[significant_indices]"
      ],
      "metadata": {
        "id": "WopeR5vjsatW"
      },
      "execution_count": null,
      "outputs": []
    },
    {
      "cell_type": "code",
      "source": [
        "# Regions of the spectrum with the smallest p-values ​​and the corresponding wavenumbers\n",
        "\n",
        "import pandas as pd\n",
        "# Criar um DataFrame para a tabela\n",
        "# Criar um DataFrame com os menores p-valores e seus números de onda correspondentes\n",
        "min_p_values = p_values[significant_indices]\n",
        "min_wavenumbers = wavenumbers[significant_indices]\n",
        "\n",
        "results_df = pd.DataFrame({\n",
        "    'Número de Onda': min_wavenumbers,\n",
        "    'P-valor': min_p_values\n",
        "})\n",
        "\n",
        "# Ordenar a tabela pelos p-valores (do menor para o maior)\n",
        "results_df = results_df.sort_values(by='P-valor').reset_index(drop=True)\n",
        "\n",
        "# Exibir a tabela\n",
        "print(\"\\nTabela das Regiões do Espectro com os Menores P-valores:\")\n",
        "results_df"
      ],
      "metadata": {
        "id": "tN8Yv9q4sEuj"
      },
      "execution_count": null,
      "outputs": []
    }
  ]
}