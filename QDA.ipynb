{
  "nbformat": 4,
  "nbformat_minor": 0,
  "metadata": {
    "colab": {
      "provenance": [],
      "authorship_tag": "ABX9TyOlRS2nU2njPshujvOgwtbH"
    },
    "kernelspec": {
      "name": "python3",
      "display_name": "Python 3"
    },
    "language_info": {
      "name": "python"
    }
  },
  "cells": [
    {
      "cell_type": "code",
      "source": [
        "# ===== Pacotes / Packages =====\n",
        "import pandas as pd\n",
        "import numpy as np\n",
        "import matplotlib.pyplot as plt\n",
        "from sklearn.model_selection import train_test_split\n",
        "from sklearn.preprocessing import LabelEncoder\n",
        "from sklearn.discriminant_analysis import QuadraticDiscriminantAnalysis\n",
        "from sklearn.metrics import accuracy_score, confusion_matrix, classification_report, ConfusionMatrixDisplay"
      ],
      "metadata": {
        "id": "m-e1_PtEDL4D"
      },
      "execution_count": null,
      "outputs": []
    },
    {
      "cell_type": "code",
      "source": [
        "# ===== 1. Ler os dados / Read the data .XLSX =====\n",
        "dados = pd.read_excel(\"NAME.xlsx\")"
      ],
      "metadata": {
        "id": "UzeH6hM2DPVP"
      },
      "execution_count": null,
      "outputs": []
    },
    {
      "cell_type": "code",
      "source": [
        "# ===== 1. Ler os dados / Read the data .CSV =====\n",
        "dados = pd.read_csv(\"NAME.csv\")"
      ],
      "metadata": {
        "id": "NyTU6falDP7a"
      },
      "execution_count": null,
      "outputs": []
    },
    {
      "cell_type": "code",
      "source": [
        "# A classe deve estar na primeira coluna / The class must be in the first column\n",
        "dados[\"Classe\"] = dados.iloc[:, 0].astype(str)  # converter para string/categoria / convert to string/category\n",
        "dados = dados.drop(dados.columns[0], axis=1)    # remover a coluna original / remove the original column\n",
        "cols = list(dados.columns)\n",
        "cols = cols[:-1] + [\"Classe\"]                   # garantir que \"Classe\" fique por último / ensure that \"Class\" comes last\n",
        "dados = dados[cols]"
      ],
      "metadata": {
        "id": "roAZqPK7DTH5"
      },
      "execution_count": null,
      "outputs": []
    },
    {
      "cell_type": "code",
      "source": [
        "# ===== 2. Garantir que preditoras sejam numéricas / Ensure predictors are numeric =====\n",
        "dados_pred = dados.drop(\"Classe\", axis=1).apply(pd.to_numeric, errors=\"coerce\")\n",
        "\n",
        "# Remover colunas constantes / Remove constant columns\n",
        "constantes = [c for c in dados_pred.columns if dados_pred[c].nunique() == 1]\n",
        "dados_pred = dados_pred.drop(columns=constantes)\n",
        "\n",
        "# Remover colunas com NA / Remove columns with NA\n",
        "dados_pred = dados_pred.dropna(axis=1)\n",
        "\n",
        "# Recombinar com a classe / Recombine with the class\n",
        "dados = pd.concat([dados_pred, dados[\"Classe\"]], axis=1)"
      ],
      "metadata": {
        "id": "yKo2WaOsDUw-"
      },
      "execution_count": null,
      "outputs": []
    },
    {
      "cell_type": "code",
      "source": [
        "# ===== 3. Divisão treino/teste / Training/testing division =====\n",
        "X = dados.drop(\"Classe\", axis=1).values\n",
        "y = dados[\"Classe\"].values\n",
        "\n",
        "# Codificar classes como números / Encode classes as numbers\n",
        "le = LabelEncoder()\n",
        "y = le.fit_transform(y)\n",
        "\n",
        "X_train, X_test, y_train, y_test = train_test_split(\n",
        "    X, y, test_size=0.2, random_state=1234, stratify=y\n",
        ")"
      ],
      "metadata": {
        "id": "-QydKl-cDWjo"
      },
      "execution_count": null,
      "outputs": []
    },
    {
      "cell_type": "code",
      "source": [
        "# ===== 4. Rodar QDA / Run QDA =====\n",
        "modelo_qda = QuadraticDiscriminantAnalysis()\n",
        "modelo_qda.fit(X_train, y_train)"
      ],
      "metadata": {
        "id": "9j1hlK2RDaLJ"
      },
      "execution_count": null,
      "outputs": []
    },
    {
      "cell_type": "code",
      "source": [
        "# ===== 5. Predição / Prediction =====\n",
        "pred_treino = modelo_qda.predict(X_train)\n",
        "pred_teste = modelo_qda.predict(X_test)\n",
        "\n",
        "print(\"Training Accuracy:\", accuracy_score(y_train, pred_treino))\n",
        "print(\"Test Accuracy:\", accuracy_score(y_test, pred_teste))"
      ],
      "metadata": {
        "id": "iZkzu-FNDbbR"
      },
      "execution_count": null,
      "outputs": []
    },
    {
      "cell_type": "code",
      "execution_count": null,
      "metadata": {
        "id": "gy0F66F6DJCG"
      },
      "outputs": [],
      "source": [
        "# ===== 6. Matriz de Confusão / Confusion Matrix =====\n",
        "y_test_int = y_test.astype(int)\n",
        "pred_teste_int = pred_teste.astype(int)\n",
        "\n",
        "cm = confusion_matrix(y_test_int, pred_teste_int, labels=np.unique(y_test_int))\n",
        "disp = ConfusionMatrixDisplay(confusion_matrix=cm, display_labels=le.classes_)\n",
        "disp.plot(cmap=\"Blues\", values_format=\"d\")\n",
        "plt.title(\"Confusion Matrix -Test Set\")\n",
        "plt.show()\n",
        "\n",
        "# Relatório detalhado / Detailed report (precision, recall, f1-score)\n",
        "print(\"\\nClassification Report:\")\n",
        "print(classification_report(y_test, pred_teste, target_names=le.classes_))\n"
      ]
    }
  ]
}