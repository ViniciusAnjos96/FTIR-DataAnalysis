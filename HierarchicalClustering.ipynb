{
  "nbformat": 4,
  "nbformat_minor": 0,
  "metadata": {
    "colab": {
      "provenance": [],
      "authorship_tag": "ABX9TyN3leW79PfZqS4YGrV1OO2z"
    },
    "kernelspec": {
      "name": "python3",
      "display_name": "Python 3"
    },
    "language_info": {
      "name": "python"
    }
  },
  "cells": [
    {
      "cell_type": "code",
      "source": [
        "import pandas as pd\n",
        "import numpy as np\n",
        "from scipy.cluster.hierarchy import linkage, fcluster, dendrogram\n",
        "from scipy.spatial.distance import pdist, squareform\n",
        "from sklearn.preprocessing import StandardScaler\n",
        "from sklearn.decomposition import PCA\n",
        "from sklearn.metrics import confusion_matrix, adjusted_rand_score, normalized_mutual_info_score\n",
        "import matplotlib.pyplot as plt"
      ],
      "metadata": {
        "id": "40TlcX44u1pl"
      },
      "execution_count": null,
      "outputs": []
    },
    {
      "cell_type": "markdown",
      "source": [
        "# Classe não indexada / Class not indexed"
      ],
      "metadata": {
        "id": "cEyFVl-1y71b"
      }
    },
    {
      "cell_type": "code",
      "source": [
        "# ===== 1. Ler os dados .XLSX / Read .XLSX data =====\n",
        "dados = pd.read_excel(\"NAME.xlsx\")\n",
        "print(dados.head())"
      ],
      "metadata": {
        "id": "1sH6lXyrzNw8"
      },
      "execution_count": null,
      "outputs": []
    },
    {
      "cell_type": "code",
      "source": [
        "# === Ler os dados .CSV / Read .CSV data ===\n",
        "dados = pd.read_csv('NAME.csv', sep=';')  # especifica o separador / specifies the separator\n",
        "print(dados.head())"
      ],
      "metadata": {
        "id": "j9RnNtLou3qK"
      },
      "execution_count": null,
      "outputs": []
    },
    {
      "cell_type": "code",
      "source": [
        "# === Padronizar os dados / Standardize data ===\n",
        "scaler = StandardScaler()\n",
        "dados_padronizados = scaler.fit_transform(dados)"
      ],
      "metadata": {
        "id": "RZQkdqCKu5J2"
      },
      "execution_count": null,
      "outputs": []
    },
    {
      "cell_type": "code",
      "source": [
        "# === Calcular matriz de distâncias Euclidiana / Calculate Euclidean distance matrix ===\n",
        "distancia = pdist(dados_padronizados, metric='euclidean')\n",
        "matriz_de_distancias = squareform(distancia)\n",
        "\n",
        "print(\"Distance Matrix:\\n\", matriz_de_distancias)\n",
        "\n",
        "# Salvar matriz de distâncias / Save distance matrix\n",
        "pd.DataFrame(matriz_de_distancias).to_excel(\"matriz_de_distancias.xlsx\", index=False)\n",
        "pd.DataFrame(matriz_de_distancias).to_csv(\"matriz_de_distancias.csv\", index=False)"
      ],
      "metadata": {
        "id": "hhjTazCSu7AK"
      },
      "execution_count": null,
      "outputs": []
    },
    {
      "cell_type": "code",
      "source": [
        "# === Clustering hierárquico (ligação simples) / Hierarchical clustering (single linkage) ===\n",
        "agrupamento = linkage(distancia, method='single')"
      ],
      "metadata": {
        "id": "emB3_qbhvBpA"
      },
      "execution_count": null,
      "outputs": []
    },
    {
      "cell_type": "code",
      "source": [
        "# === Criar tabela de amalgamação / Create amalgamation table ===\n",
        "n_obs = dados.shape[0]\n",
        "amalgamation_steps = agrupamento[:, :2].astype(int)  # pares de clusters unidos / pairs of joined clusters\n",
        "distancias = agrupamento[:, 2]\n",
        "\n",
        "amalgamation_table = pd.DataFrame({\n",
        "    \"Step\": np.arange(1, len(agrupamento) + 1),\n",
        "    \"Number_of_Clusters\": n_obs - np.arange(1, len(agrupamento) + 1),\n",
        "    \"Similarity_Level\": None,\n",
        "    \"Distance_Level\": distancias,\n",
        "    \"Clusters_joined\": None,\n",
        "    \"New_cluster\": -np.arange(1, len(agrupamento) + 1),\n",
        "    \"Number_of_observations_in_new_cluster\": None\n",
        "})\n",
        "\n",
        "# Preencher colunas adicionais / Fill in additional columns\n",
        "max_distance = max(distancias)\n",
        "\n",
        "for i in range(len(agrupamento)):\n",
        "    cluster1, cluster2 = int(agrupamento[i, 0]), int(agrupamento[i, 1])\n",
        "    amalgamation_table.loc[i, \"Clusters_joined\"] = f\"{cluster1} & {cluster2}\"\n",
        "    # Fórmula de similaridade / Similarity formula\n",
        "    amalgamation_table.loc[i, \"Similarity_Level\"] = 100 * (1 - distancias[i] / max_distance)\n",
        "    # Número de observações acumuladas no novo cluster / Number of observations accumulated in the new cluster\n",
        "    count = np.sum(agrupamento[:i+1, :2] < 0) + (i + 1)\n",
        "    amalgamation_table.loc[i, \"Number_of_observations_in_new_cluster\"] = count\n",
        "\n",
        "print(amalgamation_table)\n",
        "\n",
        "# Salvar tabela / Save table\n",
        "amalgamation_table.to_excel(\"amalgamation_table.xlsx\", index=False)\n",
        "amalgamation_table.to_csv(\"amalgamation_table.csv\", index=False)"
      ],
      "metadata": {
        "id": "7oKbrOB-vEC_"
      },
      "execution_count": null,
      "outputs": []
    },
    {
      "cell_type": "code",
      "source": [
        "# === Gráfico: Similaridade e Distância / Graph: Similarity and Distance ===\n",
        "fig, ax1 = plt.subplots()\n",
        "\n",
        "ax1.plot(amalgamation_table[\"Step\"], amalgamation_table[\"Similarity_Level\"], label=\"Similaridade\", color=\"blue\")\n",
        "ax1.set_xlabel(\"Etapa\")\n",
        "ax1.set_ylabel(\"Nível de Similaridade\", color=\"blue\")\n",
        "ax1.tick_params(axis='y', labelcolor=\"blue\")\n",
        "\n",
        "ax2 = ax1.twinx()\n",
        "ax2.plot(amalgamation_table[\"Step\"], amalgamation_table[\"Distance_Level\"], label=\"Distância\", color=\"red\")\n",
        "ax2.set_ylabel(\"Nível de Distância\", color=\"red\")\n",
        "ax2.tick_params(axis='y', labelcolor=\"red\")\n",
        "\n",
        "plt.title(\"Screeplot: etapas no agrupamento hierárquico - observações\")\n",
        "plt.show()"
      ],
      "metadata": {
        "id": "sZ5yeUZRvGI8"
      },
      "execution_count": null,
      "outputs": []
    },
    {
      "cell_type": "code",
      "source": [
        "# === Dendrograma / Dendrogram ===\n",
        "plt.figure(figsize=(12, 6))\n",
        "dendrogram(agrupamento)\n",
        "plt.title(\"Dendrogram (Simple Link - Euclidean Distance - observations)\")\n",
        "plt.xlabel(\"Observations\")\n",
        "plt.ylabel(\"Distance\")\n",
        "plt.show()"
      ],
      "metadata": {
        "id": "BkO4ZQ9UvKO5"
      },
      "execution_count": null,
      "outputs": []
    },
    {
      "cell_type": "code",
      "source": [
        "# === Exemplo: cortar dendrograma em k clusters / Example: cutting dendrogram into k clusters ===\n",
        "k = 2  # pode ajustar esse número / you can adjust this number\n",
        "clusters = fcluster(agrupamento, k, criterion='maxclust')\n"
      ],
      "metadata": {
        "id": "4A6FJSI6u0UL"
      },
      "execution_count": null,
      "outputs": []
    },
    {
      "cell_type": "code",
      "source": [
        "# === PCA para projeção em 2D / PCA for 2D projection ===\n",
        "pca = PCA(n_components=2)\n",
        "dados_pca = pca.fit_transform(dados_padronizados)\n",
        "\n",
        "# === Scatterplot dos clusters ===\n",
        "plt.figure(figsize=(10, 6))\n",
        "scatter = plt.scatter(dados_pca[:, 0], dados_pca[:, 1], c=clusters, cmap=\"tab10\", s=50, alpha=0.8)\n",
        "plt.xlabel(\"PC1\")\n",
        "plt.ylabel(\"PC2\")\n",
        "plt.title(f\"Hierarchical Grouping ({k} clusters) - PCA 2D\")\n",
        "plt.legend(*scatter.legend_elements(), title=\"Clusters\")\n",
        "plt.show()"
      ],
      "metadata": {
        "id": "1JGOj0kWw9z9"
      },
      "execution_count": null,
      "outputs": []
    },
    {
      "cell_type": "code",
      "source": [
        "# Adicionar rótulos dos clusters ao dataframe original / Add cluster labels to the original dataframe\n",
        "dados[\"Cluster\"] = clusters\n",
        "# Mover a coluna 'Cluster' para a primeira posição / Move the 'Cluster' column to the first position\n",
        "cluster_column = dados.pop(\"Cluster\")\n",
        "dados.insert(0, \"Cluster\", cluster_column)\n",
        "\n",
        "\n",
        "dados.to_excel(\"dados_com_clusters.xlsx\", index=False)\n",
        "dados.to_csv(\"dados_com_clusters.csv\", index=False)\n",
        "print(dados.head())"
      ],
      "metadata": {
        "id": "WK8kpgMmvQiw"
      },
      "execution_count": null,
      "outputs": []
    },
    {
      "cell_type": "markdown",
      "source": [
        "# Classe indexada / Indexed class"
      ],
      "metadata": {
        "id": "rSvqGqEhy9MD"
      }
    },
    {
      "cell_type": "code",
      "source": [
        "# ===== 1. Ler os dados .XLSX / Read .XLSX data =====\n",
        "dados = pd.read_excel(\"NAME.xlsx\")\n",
        "print(dados.head())"
      ],
      "metadata": {
        "id": "Wl8PPtkYzb3W"
      },
      "execution_count": null,
      "outputs": []
    },
    {
      "cell_type": "code",
      "source": [
        "# === Ler os dados .CSV / Read .CSV data ===\n",
        "dados = pd.read_csv('NAME.csv', sep=',')  # especifica o separador / specifies the separator\n",
        "print(dados.head())"
      ],
      "metadata": {
        "id": "3wLhQ7yOzem9"
      },
      "execution_count": null,
      "outputs": []
    },
    {
      "cell_type": "code",
      "source": [
        "# Separar classes (1ª coluna) e variáveis numéricas / Separate classes (1st column) and numeric variables\n",
        "classes = dados.iloc[:, 0]   # rótulos das classes / class labels\n",
        "dados_num = dados.iloc[:, 1:]  # apenas colunas numéricas / only numeric columns\n",
        "\n",
        "# === Padronizar os dados numéricos / Standardize numerical data ===\n",
        "scaler = StandardScaler()\n",
        "dados_padronizados = scaler.fit_transform(dados_num)"
      ],
      "metadata": {
        "id": "bm41LKX80L1w"
      },
      "execution_count": null,
      "outputs": []
    },
    {
      "cell_type": "code",
      "source": [
        "# === Calcular matriz de distâncias Euclidiana / Calculate Euclidean distance matrix ===\n",
        "distancia = pdist(dados_padronizados, metric='euclidean')\n",
        "matriz_de_distancias = squareform(distancia)\n",
        "\n",
        "print(\"Distance Matrix:\\n\", matriz_de_distancias)\n",
        "\n",
        "# Salvar matriz de distâncias / Save distance matrix\n",
        "pd.DataFrame(matriz_de_distancias).to_excel(\"matriz_de_distancias.xlsx\", index=False)\n",
        "pd.DataFrame(matriz_de_distancias).to_csv(\"matriz_de_distancias.csv\", index=False)"
      ],
      "metadata": {
        "id": "qSnBiVPv0Ytg"
      },
      "execution_count": null,
      "outputs": []
    },
    {
      "cell_type": "code",
      "source": [
        "# === Clustering hierárquico (ligação simples) / Hierarchical clustering (single linkage) ===\n",
        "agrupamento = linkage(distancia, method='single')\n",
        "\n",
        "# === Criar tabela de amalgamação / Create amalgamation table ===\n",
        "n_obs = dados.shape[0]\n",
        "amalgamation_steps = agrupamento[:, :2].astype(int)\n",
        "distancias = agrupamento[:, 2]\n",
        "\n",
        "amalgamation_table = pd.DataFrame({\n",
        "    \"Step\": np.arange(1, len(agrupamento) + 1),\n",
        "    \"Number_of_Clusters\": n_obs - np.arange(1, len(agrupamento) + 1),\n",
        "    \"Similarity_Level\": None,\n",
        "    \"Distance_Level\": distancias,\n",
        "    \"Clusters_joined\": None,\n",
        "    \"New_cluster\": -np.arange(1, len(agrupamento) + 1),\n",
        "    \"Number_of_observations_in_new_cluster\": None\n",
        "})\n",
        "\n",
        "# Preencher colunas adicionais / Fill in additional columns\n",
        "max_distance = max(distancias)\n",
        "for i in range(len(agrupamento)):\n",
        "    cluster1, cluster2 = int(agrupamento[i, 0]), int(agrupamento[i, 1])\n",
        "    amalgamation_table.loc[i, \"Clusters_joined\"] = f\"{cluster1} & {cluster2}\"\n",
        "    amalgamation_table.loc[i, \"Similarity_Level\"] = 100 * (1 - distancias[i] / max_distance)\n",
        "    count = np.sum(agrupamento[:i+1, :2] < 0) + (i + 1)\n",
        "    amalgamation_table.loc[i, \"Number_of_observations_in_new_cluster\"] = count\n",
        "\n",
        "print(amalgamation_table)\n",
        "amalgamation_table.to_excel(\"amalgamation_table.xlsx\", index=False)\n",
        "amalgamation_table.to_csv(\"amalgamation_table.csv\", index=False)"
      ],
      "metadata": {
        "id": "8X0JW-lt0dyL"
      },
      "execution_count": null,
      "outputs": []
    },
    {
      "cell_type": "code",
      "source": [
        "# === Gráfico: Similaridade e Distância / Graph: Similarity and Distance ===\n",
        "fig, ax1 = plt.subplots()\n",
        "ax1.plot(amalgamation_table[\"Step\"], amalgamation_table[\"Similarity_Level\"], label=\"Similaridade\", color=\"blue\")\n",
        "ax1.set_xlabel(\"Etapa\")\n",
        "ax1.set_ylabel(\"Nível de Similaridade\", color=\"blue\")\n",
        "ax1.tick_params(axis='y', labelcolor=\"blue\")\n",
        "ax2 = ax1.twinx()\n",
        "ax2.plot(amalgamation_table[\"Step\"], amalgamation_table[\"Distance_Level\"], label=\"Distância\", color=\"red\")\n",
        "ax2.set_ylabel(\"Nível de Distância\", color=\"red\")\n",
        "ax2.tick_params(axis='y', labelcolor=\"red\")\n",
        "plt.title(\"Screeplot: etapas no agrupamento hierárquico - observações\")\n",
        "plt.show()"
      ],
      "metadata": {
        "id": "cms8RUhN0fvu"
      },
      "execution_count": null,
      "outputs": []
    },
    {
      "cell_type": "code",
      "source": [
        "# === Dendrograma / Dendrogram ===\n",
        "plt.figure(figsize=(12, 6))\n",
        "dendrogram(agrupamento)\n",
        "plt.title(\"Dendrogram (Simple Link - Euclidean Distance - observations)\")\n",
        "plt.xlabel(\"Observations\")\n",
        "plt.ylabel(\"Distance\")\n",
        "plt.show()"
      ],
      "metadata": {
        "id": "cXFKrYC60i3F"
      },
      "execution_count": null,
      "outputs": []
    },
    {
      "cell_type": "code",
      "source": [
        "# === Exemplo: cortar dendrograma em k clusters / Example: cutting dendrogram into k clusters ===\n",
        "k = len(np.unique(classes))  # usar o número de classes reais como referência / use the number of real classes as a reference\n",
        "clusters = fcluster(agrupamento, k, criterion='maxclust')\n",
        "\n",
        "# === PCA para projeção em 2D / PCA for 2D projection ===\n",
        "pca = PCA(n_components=2)\n",
        "dados_pca = pca.fit_transform(dados_padronizados)\n",
        "\n",
        "plt.figure(figsize=(10, 6))\n",
        "scatter = plt.scatter(dados_pca[:, 0], dados_pca[:, 1], c=clusters, cmap=\"tab10\", s=50, alpha=0.8)\n",
        "plt.xlabel(\"PC1\")\n",
        "plt.ylabel(\"PC2\")\n",
        "plt.title(f\"Hierarchical Grouping ({k} clusters) - PCA 2D\")\n",
        "plt.legend(*scatter.legend_elements(), title=\"Clusters\")\n",
        "plt.show()"
      ],
      "metadata": {
        "id": "0Y3f2CWA0G2o"
      },
      "execution_count": null,
      "outputs": []
    },
    {
      "cell_type": "code",
      "source": [
        "# === Avaliar proximidade com as classes reais / Assess proximity to real classes ===\n",
        "# ARI e NMI\n",
        "ari = adjusted_rand_score(classes, clusters)\n",
        "nmi = normalized_mutual_info_score(classes, clusters)\n",
        "print(f\"Adjusted Rand Index (ARI): {ari:.4f}\")\n",
        "print(f\"Normalized Mutual Information (NMI): {nmi:.4f}\")"
      ],
      "metadata": {
        "id": "DxV8m--d0rq3"
      },
      "execution_count": null,
      "outputs": []
    }
  ]
}