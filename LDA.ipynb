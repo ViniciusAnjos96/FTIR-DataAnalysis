{
  "nbformat": 4,
  "nbformat_minor": 0,
  "metadata": {
    "colab": {
      "provenance": [],
      "authorship_tag": "ABX9TyMZaQQv0tz7LU50iGbG4iru"
    },
    "kernelspec": {
      "name": "python3",
      "display_name": "Python 3"
    },
    "language_info": {
      "name": "python"
    }
  },
  "cells": [
    {
      "cell_type": "code",
      "source": [
        "# ===== Pacotes / Packages =====\n",
        "import pandas as pd\n",
        "import numpy as np\n",
        "import matplotlib.pyplot as plt\n",
        "import seaborn as sns\n",
        "\n",
        "from sklearn.model_selection import train_test_split\n",
        "from sklearn.preprocessing import LabelEncoder\n",
        "from sklearn.discriminant_analysis import LinearDiscriminantAnalysis as LDA\n",
        "from sklearn.metrics import accuracy_score, confusion_matrix, ConfusionMatrixDisplay"
      ],
      "metadata": {
        "id": "na6vDR29Udta"
      },
      "execution_count": null,
      "outputs": []
    },
    {
      "cell_type": "code",
      "source": [
        "# ===== 1. Ler os dados .XLSX / Read .XLSX data =====\n",
        "dados = pd.read_excel(\"NAME.xlsx\")\n",
        "print(dados.head())"
      ],
      "metadata": {
        "id": "E6N0QKmLstSR"
      },
      "execution_count": null,
      "outputs": []
    },
    {
      "cell_type": "code",
      "source": [
        "# === Ler os dados .CSV / Read .CSV data ===\n",
        "dados = pd.read_csv('NAME.csv', sep=',')  # especifica o separador / specifies the separator\n",
        "print(dados.head())"
      ],
      "metadata": {
        "id": "HmARGDS5swEK"
      },
      "execution_count": null,
      "outputs": []
    },
    {
      "cell_type": "code",
      "source": [
        "# A classe deve estar na primeira coluna / The class must be in the first column\n",
        "classe = dados.iloc[:, 0].astype(str)  # forçar string/categórica / force string/categorical\n",
        "X = dados.iloc[:, 1:]  # preditoras / predictors\n",
        "\n",
        "# ===== 2. Garantir que preditoras sejam numéricas / Ensure predictors are numeric =====\n",
        "X = X.apply(pd.to_numeric, errors='coerce')\n",
        "\n",
        "# Remover colunas constantes / Remove constant columns\n",
        "X = X.loc[:, X.nunique() > 1]\n",
        "\n",
        "# Remover colunas com NA / Remove columns with NA\n",
        "X = X.dropna(axis=1)\n",
        "\n",
        "# Recombinar com a classe / Recombine with the class\n",
        "dados = X.copy()\n",
        "dados[\"Classe\"] = classe\n",
        "\n",
        "# ===== Divisão treino/teste / Training/testing division =====\n",
        "X_train, X_test, y_train, y_test = train_test_split(\n",
        "    X, classe, test_size=0.3, random_state=1234, stratify=classe\n",
        ")\n",
        "\n",
        "print(\"Train:\", X_train.shape)\n",
        "print(\"Test:\", X_test.shape)"
      ],
      "metadata": {
        "id": "eaq35zLhUgZp"
      },
      "execution_count": null,
      "outputs": []
    },
    {
      "cell_type": "code",
      "source": [
        "# ===== Rodar LDA / Run LDA =====\n",
        "lda = LDA()\n",
        "lda.fit(X_train, y_train)\n",
        "\n",
        "# ===== Predição / Prediction =====\n",
        "pred_train = lda.predict(X_train)\n",
        "pred_test = lda.predict(X_test)\n",
        "\n",
        "print(\"Training Accuracy:\", accuracy_score(y_train, pred_train))\n",
        "print(\"Test Accuracy:\", accuracy_score(y_test, pred_test))"
      ],
      "metadata": {
        "id": "-DRIzvJsUkgP"
      },
      "execution_count": null,
      "outputs": []
    },
    {
      "cell_type": "code",
      "source": [
        "# ===== 6. Gráfico de discriminação / Discrimination Chart =====\n",
        "X_lda = lda.transform(X)\n",
        "num_ld = X_lda.shape[1]\n",
        "\n",
        "if num_ld >= 2:\n",
        "    lda_df = pd.DataFrame({\n",
        "        \"LD1\": X_lda[:, 0],\n",
        "        \"LD2\": X_lda[:, 1],\n",
        "        \"Classe\": classe\n",
        "    })\n",
        "\n",
        "    plt.figure(figsize=(8,6))\n",
        "    sns.scatterplot(data=lda_df, x=\"LD1\", y=\"LD2\", hue=\"Classe\", alpha=0.7, s=60)\n",
        "    plt.title(\"Discrimination via LDA (LD1 vs LD2)\")\n",
        "    plt.show()\n",
        "\n",
        "else:\n",
        "    lda_df = pd.DataFrame({\n",
        "        \"LD1\": X_lda[:, 0],\n",
        "        \"Classe\": classe\n",
        "    })\n",
        "\n",
        "    plt.figure(figsize=(8,6))\n",
        "    sns.kdeplot(data=lda_df, x=\"LD1\", hue=\"Classe\", fill=True, alpha=0.5)\n",
        "    plt.title(\"Discrimination via LDA (just LD1)\")\n",
        "    plt.show()"
      ],
      "metadata": {
        "id": "h-8yOK6eUoeh"
      },
      "execution_count": null,
      "outputs": []
    },
    {
      "cell_type": "code",
      "execution_count": null,
      "metadata": {
        "id": "NrkKI68rUSf9"
      },
      "outputs": [],
      "source": [
        "# ===== 7. Loadings =====\n",
        "loadings = lda.scalings_\n",
        "num_ld = loadings.shape[1]\n",
        "\n",
        "if num_ld >= 2:\n",
        "    loadings_df = pd.DataFrame(loadings[:, :2],\n",
        "                               columns=[\"LD1\", \"LD2\"],\n",
        "                               index=X.columns).reset_index()\n",
        "    loadings_df.rename(columns={\"index\": \"Variavel\"}, inplace=True)\n",
        "\n",
        "    plt.figure(figsize=(8,6))\n",
        "    for i, row in loadings_df.iterrows():\n",
        "        plt.arrow(0, 0, row[\"LD1\"], row[\"LD2\"],\n",
        "                  color=\"blue\", alpha=0.7, head_width=0.02)\n",
        "        plt.text(row[\"LD1\"], row[\"LD2\"], row[\"Variavel\"],\n",
        "                 color=\"red\", ha=\"center\", va=\"center\")\n",
        "    plt.axhline(0, color=\"gray\", linestyle=\"--\")\n",
        "    plt.axvline(0, color=\"gray\", linestyle=\"--\")\n",
        "    plt.title(\"Loadings das variáveis (LD1 vs LD2)\")\n",
        "    plt.xlabel(\"LD1\")\n",
        "    plt.ylabel(\"LD2\")\n",
        "    plt.grid(True, linestyle=\"--\", alpha=0.6)\n",
        "    plt.show()\n",
        "\n",
        "else:\n",
        "    loadings_df = pd.DataFrame({\n",
        "        \"LD1\": loadings[:, 0],\n",
        "        \"Variavel\": X.columns\n",
        "    }).sort_values(\"LD1\", ascending=False)\n",
        "\n",
        "    plt.figure(figsize=(8,6))\n",
        "    sns.barplot(data=loadings_df, y=\"Feature\", x=\"LD1\", color=\"steelblue\")\n",
        "    plt.title(\"Feature loadings (just LD1)\")\n",
        "    plt.show()\n"
      ]
    },
    {
      "cell_type": "code",
      "source": [
        "# ---- Matriz de confusão para o conjunto de teste / Confusion matrix for the test set ----\n",
        "cm = confusion_matrix(y_test, pred_test, labels=np.unique(classe))\n",
        "disp = ConfusionMatrixDisplay(confusion_matrix=cm, display_labels=np.unique(classe))\n",
        "disp.plot(cmap=\"Blues\", values_format=\"d\")\n",
        "plt.title(\"Confusion Matrix - Test\")\n",
        "plt.show()"
      ],
      "metadata": {
        "id": "84vPWhq1UrBM"
      },
      "execution_count": null,
      "outputs": []
    }
  ]
}